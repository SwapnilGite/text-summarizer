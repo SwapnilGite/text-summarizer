{
 "cells": [
  {
   "cell_type": "code",
   "execution_count": 92,
   "metadata": {
    "executionInfo": {
     "elapsed": 15,
     "status": "ok",
     "timestamp": 1676374601020,
     "user": {
      "displayName": "Sumit Girnar",
      "userId": "04043315725528865952"
     },
     "user_tz": -330
    },
    "id": "AesJlVX7G-wE"
   },
   "outputs": [],
   "source": [
    "import pandas as pd"
   ]
  },
  {
   "cell_type": "code",
   "execution_count": 93,
   "metadata": {
    "executionInfo": {
     "elapsed": 14,
     "status": "ok",
     "timestamp": 1676374601023,
     "user": {
      "displayName": "Sumit Girnar",
      "userId": "04043315725528865952"
     },
     "user_tz": -330
    },
    "id": "v2heyuhrf03h"
   },
   "outputs": [],
   "source": [
    "import requests\n",
    "from bs4 import BeautifulSoup\n"
   ]
  },
  {
   "cell_type": "code",
   "execution_count": 94,
   "metadata": {
    "executionInfo": {
     "elapsed": 7,
     "status": "ok",
     "timestamp": 1676374614092,
     "user": {
      "displayName": "Sumit Girnar",
      "userId": "04043315725528865952"
     },
     "user_tz": -330
    },
    "id": "ZS5ia0F10BXV"
   },
   "outputs": [],
   "source": [
    "file_path = \"./Dataset.csv\""
   ]
  },
  {
   "cell_type": "code",
   "execution_count": 96,
   "metadata": {
    "id": "_HdkhNs04mv-"
   },
   "outputs": [],
   "source": [
    "def writeToCsv(final_para,summary,url):\n",
    "    data = {\n",
    "    'Input Text': [final_para],\n",
    "    'Summary': [summary],\n",
    "    'Source': [url],\n",
    "}\n",
    "    print(\"data :\",data)\n",
    "    df = pd.DataFrame(data)\n",
    "    df.to_csv('Dataset.csv', mode='a', index=False, header=False)\n",
    "    \n",
    "    print(\"Data appended successfully.\")"
   ]
  },
  {
   "cell_type": "code",
   "execution_count": 108,
   "metadata": {},
   "outputs": [],
   "source": [
    "def get_text(url):\n",
    "    r=requests.get(url);\n",
    "    soup = BeautifulSoup(r.content,'html.parser')\n",
    "\n",
    "    title=soup.title\n",
    "    content = soup.find(\"div\", {\"class\": \"sp-cn ins_storybody\", \"id\": \"ins_storybody\"})\n",
    "\n",
    "    paragraphs = content.find_all(\"p\")\n",
    "    para_content=\"\"\n",
    "\n",
    "    index=0\n",
    "    word_limit=150\n",
    "    count = 0\n",
    "\n",
    "    for p in paragraphs:\n",
    "        if index==0:\n",
    "            index+=1 #ignore first para\n",
    "            continue\n",
    "        para_content+=p.text\n",
    "    final_para=\"\"\n",
    "    sentences=para_content.split(\".\")\n",
    "\n",
    "    for sentence in sentences:\n",
    "        words=sentence.split(\" \")\n",
    "        count+=len(words)\n",
    "        if(count<=word_limit):\n",
    "            final_para+=sentence\n",
    "            final_para+=\".\"\n",
    "        else :\n",
    "            break\n",
    "    return final_para\n",
    "    "
   ]
  },
  {
   "cell_type": "code",
   "execution_count": 111,
   "metadata": {
    "colab": {
     "base_uri": "https://localhost:8080/"
    },
    "executionInfo": {
     "elapsed": 11530,
     "status": "ok",
     "timestamp": 1676294600765,
     "user": {
      "displayName": "Sumit Girnar",
      "userId": "04043315725528865952"
     },
     "user_tz": -330
    },
    "id": "NnSaX4qY3-uT",
    "outputId": "c0a22655-c4a0-4605-c46c-f615e65650d7"
   },
   "outputs": [
    {
     "name": "stdout",
     "output_type": "stream",
     "text": [
      "Enter the Url : https://www.ndtv.com/india-news/tigress-trapped-by-forest-department-in-uttarakhand-declared-man-eater-3782765\n",
      "https://www.ndtv.com/india-news/tigress-trapped-by-forest-department-in-uttarakhand-declared-man-eater-3782765\n",
      "Kumaon division's Chief Conservator of Forest Prasanna Kumar Patra said the animal had walked into a forest department cage in the Kosi range on January 18, and has been declared man-eater based on a report from the Hyderabad-based Centre for Cellular and Molecular Biology.The conclusion was drawn after DNA samples of the tigress and its suspected victim were matched, he said.The tigress had dragged away 32-year-old Nafees from near Panod canal on December 24 last year.During examination, it was found that its teeth were worn out. (Except for the headline, this story has not been edited by NDTV staff and is published from a syndicated feed.).\n",
      "\n",
      "Enter the Summary: fsdfSfafsdf\n",
      "data : {'Input Text': [\"Kumaon division's Chief Conservator of Forest Prasanna Kumar Patra said the animal had walked into a forest department cage in the Kosi range on January 18, and has been declared man-eater based on a report from the Hyderabad-based Centre for Cellular and Molecular Biology.The conclusion was drawn after DNA samples of the tigress and its suspected victim were matched, he said.The tigress had dragged away 32-year-old Nafees from near Panod canal on December 24 last year.During examination, it was found that its teeth were worn out.\\xa0(Except for the headline, this story has not been edited by NDTV staff and is published from a syndicated feed.).\"], 'Summary': ['fsdfSfafsdf'], 'Source': ['https://www.ndtv.com/india-news/tigress-trapped-by-forest-department-in-uttarakhand-declared-man-eater-3782765']}\n",
      "Data appended successfully.\n"
     ]
    }
   ],
   "source": [
    "url=input(\"Enter the Url : \")\n",
    "print(url)\n",
    "input_text=get_text(url)\n",
    "print(input_text)\n",
    "print()\n",
    "summary=input(\"Enter the Summary: \")\n",
    "writeToCsv(input_text,summary,url)"
   ]
  },
  {
   "cell_type": "code",
   "execution_count": 113,
   "metadata": {
    "colab": {
     "base_uri": "https://localhost:8080/",
     "height": 3806
    },
    "executionInfo": {
     "elapsed": 14,
     "status": "ok",
     "timestamp": 1676294604558,
     "user": {
      "displayName": "Sumit Girnar",
      "userId": "04043315725528865952"
     },
     "user_tz": -330
    },
    "id": "AMdSH9gF8Kpk",
    "outputId": "96c969e1-e2d0-4afb-bd5e-3806d2e5adfb"
   },
   "outputs": [
    {
     "name": "stdout",
     "output_type": "stream",
     "text": [
      "                                          Input Text             Summary  \\\n",
      "0  Sara Ali Khan is living her best life in Austr...                  kl   \n",
      "1  Sara Ali Khan is living her best life in Austr...                 klj   \n",
      "2  Sara Ali Khan is living her best life in Austr...       fdfsfdsffasfa   \n",
      "3  Sara Ali Khan is living her best life in Austr...             summary   \n",
      "4  Sara Ali Khan is living her best life in Austr...  zzzzzzzzzzzzzzzzzz   \n",
      "5  Sara Ali Khan is living her best life in Austr...            hkhkjhkj   \n",
      "6  Kumaon division's Chief Conservator of Forest ...         fsdfSfafsdf   \n",
      "\n",
      "                                              Source  \n",
      "0  https://www.ndtv.com/entertainment/in-pic-a-sc...  \n",
      "1  https://www.ndtv.com/entertainment/in-pic-a-sc...  \n",
      "2  https://www.ndtv.com/india-news/mumbai-to-new-...  \n",
      "3  https://www.ndtv.com/india-news/tigress-trappe...  \n",
      "4  https://www.ndtv.com/india-news/tigress-trappe...  \n",
      "5  https://www.ndtv.com/india-news/tigress-trappe...  \n",
      "6  https://www.ndtv.com/india-news/tigress-trappe...  \n"
     ]
    }
   ],
   "source": [
    "df = pd.read_csv(file_path)\n",
    "print(df)"
   ]
  },
  {
   "cell_type": "code",
   "execution_count": null,
   "metadata": {
    "id": "xafFGbFY8LrM"
   },
   "outputs": [],
   "source": []
  }
 ],
 "metadata": {
  "colab": {
   "authorship_tag": "ABX9TyNOjhjQwCjgkTk3lBwnnnAv",
   "provenance": []
  },
  "kernelspec": {
   "display_name": "Python 3 (ipykernel)",
   "language": "python",
   "name": "python3"
  },
  "language_info": {
   "codemirror_mode": {
    "name": "ipython",
    "version": 3
   },
   "file_extension": ".py",
   "mimetype": "text/x-python",
   "name": "python",
   "nbconvert_exporter": "python",
   "pygments_lexer": "ipython3",
   "version": "3.9.10"
  }
 },
 "nbformat": 4,
 "nbformat_minor": 1
}
